{
 "cells": [
  {
   "cell_type": "markdown",
   "id": "a0314825",
   "metadata": {},
   "source": [
    "# Harry's House - Random Network\n",
    "Creazione di una random network da usare come confronto"
   ]
  },
  {
   "cell_type": "code",
   "execution_count": 1,
   "id": "84ada579",
   "metadata": {},
   "outputs": [],
   "source": [
    "import tweepy\n",
    "import os\n",
    "import json\n",
    "import pandas as pd\n",
    "import numpy\n",
    "import networkx\n",
    "\n",
    "from networkx.generators.random_graphs import erdos_renyi_graph"
   ]
  },
  {
   "cell_type": "code",
   "execution_count": 2,
   "id": "40d04499",
   "metadata": {},
   "outputs": [
    {
     "name": "stdout",
     "output_type": "stream",
     "text": [
      "C:\\Users\\sarac\\OneDrive - Università degli Studi di Milano\\UNI 2022\\_SOCIALMEDIA\\#HARRYSHOUSE\\NETWORKS\\randomNetwork\n"
     ]
    }
   ],
   "source": [
    "path_data = os.getcwd() + '\\HARRY_HOUSE_DATA'\n",
    "path_networks = os.getcwd() + '\\\\NETWORKS\\\\randomNetwork'\n",
    "os.chdir(path_networks)\n",
    "print(os.getcwd())"
   ]
  },
  {
   "cell_type": "code",
   "execution_count": 5,
   "id": "e6b8cc1e",
   "metadata": {},
   "outputs": [
    {
     "data": {
      "text/plain": [
       "0.025780849974398362"
      ]
     },
     "execution_count": 5,
     "metadata": {},
     "output_type": "execute_result"
    }
   ],
   "source": [
    "n = 280 #stessi nodi della mia rete random\n",
    "l = 1007\n",
    "p = 2*l/(n*(n-1))\n",
    "p"
   ]
  },
  {
   "cell_type": "markdown",
   "id": "9bd06153",
   "metadata": {},
   "source": [
    "harrys_house_hashtags_network_small = nx.Graph()\n",
    "count =  0\n",
    "with open ('twitter_network_hashtags_harryshouse_small.csv', encoding = 'utf-8') as f:\n",
    "    for line in f:\n",
    "        if count == 0:\n",
    "            count += 1\n",
    "            continue\n",
    "        source, destination, info = [e for e in line.strip().split(',')] \n",
    "        harrys_house_hashtags_network_small.add_edge(source, destination, peso = int(info))"
   ]
  },
  {
   "cell_type": "code",
   "execution_count": 6,
   "id": "28618ade",
   "metadata": {},
   "outputs": [],
   "source": [
    "g = erdos_renyi_graph(n, p)\n",
    "\n",
    "networkx.write_gexf(g, \"grafo_random.gexf\")"
   ]
  },
  {
   "cell_type": "code",
   "execution_count": null,
   "id": "a34dfa38",
   "metadata": {},
   "outputs": [],
   "source": []
  }
 ],
 "metadata": {
  "kernelspec": {
   "display_name": "Python 3 (ipykernel)",
   "language": "python",
   "name": "python3"
  },
  "language_info": {
   "codemirror_mode": {
    "name": "ipython",
    "version": 3
   },
   "file_extension": ".py",
   "mimetype": "text/x-python",
   "name": "python",
   "nbconvert_exporter": "python",
   "pygments_lexer": "ipython3",
   "version": "3.9.7"
  }
 },
 "nbformat": 4,
 "nbformat_minor": 5
}
