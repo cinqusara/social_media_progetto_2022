{
 "cells": [
  {
   "cell_type": "markdown",
   "id": "9a39a6ab",
   "metadata": {},
   "source": [
    "# Author of HarrysHouse tweets"
   ]
  },
  {
   "cell_type": "code",
   "execution_count": 2,
   "id": "c1882f07",
   "metadata": {},
   "outputs": [],
   "source": [
    "#IMPORT\n",
    "\n",
    "import tweepy\n",
    "import CONFIG\n",
    "import csv\n",
    "import os\n",
    "import json\n",
    "import numpy as np\n",
    "import pandas as pd\n",
    "\n",
    "from collections import Counter"
   ]
  },
  {
   "cell_type": "code",
   "execution_count": 3,
   "id": "58a7683f",
   "metadata": {},
   "outputs": [
    {
     "name": "stdout",
     "output_type": "stream",
     "text": [
      "C:\\Users\\sarac\\OneDrive - Università degli Studi di Milano\\UNI 2022\\_SOCIALMEDIA\\#harryhouse\\HARRY_HOUSE_DATA\n"
     ]
    }
   ],
   "source": [
    "path = os.getcwd() + '\\HARRY_HOUSE_DATA'\n",
    "os.chdir(path)\n",
    "print(os.getcwd())"
   ]
  },
  {
   "cell_type": "code",
   "execution_count": 4,
   "id": "73e294fa",
   "metadata": {},
   "outputs": [],
   "source": [
    "client = tweepy.Client(bearer_token = CONFIG.BEARER_TOKEN)"
   ]
  },
  {
   "cell_type": "code",
   "execution_count": 8,
   "id": "22b33277",
   "metadata": {},
   "outputs": [],
   "source": [
    "authors = json.load(open('author_1705.json'))"
   ]
  },
  {
   "cell_type": "code",
   "execution_count": 9,
   "id": "7d8733ad",
   "metadata": {},
   "outputs": [
    {
     "name": "stdout",
     "output_type": "stream",
     "text": [
      "4952\n"
     ]
    }
   ],
   "source": [
    "print(len(authors))"
   ]
  },
  {
   "cell_type": "code",
   "execution_count": 18,
   "id": "81de3b23",
   "metadata": {},
   "outputs": [
    {
     "name": "stdout",
     "output_type": "stream",
     "text": [
      "dict_keys(['cashton/4 • she/her • 24', '', 'she/her ♡ 18', '2022 give me more concerts', 'North Oxford MA', 'she/her ⠀⠀ fetus larry l♡ve bo', 'nj • 22 ', 'Texas, USA', 'Elizabethtown, PA', '17 she/they', 'ｄｙｋｈｙａ？', 'she¡her | no stunts', 'In emotion', 'Harry’s House', 'Zaragoza, España', 'México', 'Paris, France', 'Brasil', 'she/her | 19 | dnf -17 ', 'she/her | 25', 'Paradise, NV', 'L:🇨🇱 H: 🇺🇸(?)', 'she|her 19', \"Harry's House \", '19 | she/her | latina', 'she/her 19', 'harry’s house', 'on the loose', 'Worldwide', '(ela/dela)', 'Peru', 'H:🇬🇧 L:🇨🇱', 'Italy', 'España', 'Santiago, Chile', '22 // jack chambers car', 'she/her', 'She/They', 'Hs1 & Wolfstar', 'Lynbrook, NY', 'he/him • fl', 'Harry’s House | 22 | she/her |', 'harry’s curls', 'penn ✈️ nyc', 'she/her • she/they • he/they', 'Castellón de la Plana, Spain', 'track 8', 'San Francisco, CA', 'New York, USA', 'Lahaina, HI', 'she/her | 16', 'no stunts, larrie', 'ltwt oslo', 'She/Her', 'Lombardia, Italia', \"louis' arms\", 'Harry’s house 🏠🩰', 'Princess Park', 'New York', 'Monterrey', 'Monterrey, Nuevo León', 'M&R, Norway ', 'she/they, 21', 'Munich, Germany', 'Chinameca, El Salvador', 'United Kingdom', 'New York, NY', 'Ative as notificações', 'Media: @Harry_PL_Media ', 'Brooklyn, NY', 'Philadelphia, PA', 'Kalisz, Polska', 'Cape Town', 'any prns • 22', '𝐍𝐘 ; 𝐁𝐋𝐌', 'harry styles and louis tomlinson              ↳my person ↲ After all this time? Always.🏠 anne with an e ♡// reader📖 t%m holl@nd-spider man stan ✭   ', 'Rihanna', 'Münster, Deutschland', 'Altrincham, England', 'camp halfblood↬cabin 3', 'Los Angeles, CA', 'Poland ', '☀️🌊❤️', 'Buenos Aires ', 'House up a hill-French Riviera', \"in louis's harms\", 'Houston ', 'Österreich', \"harry's curls  \", 'Rose City, Michigan', 'home ♡', 'she/her 21+', 'Rio de Janeiro, Brasil', \"in harry's backwash \", '☀️🌻', 'Sprouting', 'Harry’s House 🏡', 'The Netherlands', 'Berlin, Germany', 'no stunts || aquarius', 'Utopia', 'az', 'Eroda', 'São Paulo, Brasil', 'Happiness Begins', 'Berlin', 'latine. 24 ', 'she/her (2)', 'England, United Kingdom', 'Treat people with kindness', 'harry’s arms', 'Denver, CO', 'Argentina', 'Madrid, Comunidad de Madrid', 'everything is gonna be fine ', 'Bangladesh ', 'uruguaya', 'France', 'larries', '📍México; HS: 🇮🇹', 'Puerto Rico', \"Harry's dimples\", 'Long Island, NY', 'she/her x5', 'she/her ♫ ot5', 'kiss me in the kitchen like', 'NY', 'Italia', 'Norway ', '𝗍𝗁𝗈𝗋𝗇𝖿𝗂𝖾𝗅𝖽 𝗁𝖺𝗅𝗅', 'Costa Rica', 'Portugal', 'they/them•20•anti', 'Sweden', 'Enschede', 'she/her ', 'Paraguay', 'class·shade ✨', 'Styles is teddy bears on your teenage bed, perfect handwriting on thank you cards…', '23.05.17 || 1-2.06.18', 'Alexandria bay new york', '16?! ♡︎ she/her', 'entp ⎊', 'A lado del éxito. ', 'Spain (mostly)', 'waiting for 1D', 'non lo so ', 'Princess Park Av', 'Nashville, TN', \" harry's house \", 'larry stylinson', 'Everywhere', 'Louis Tomlinson World Tour!!', 'Hollywood, CA', '10/04🏡', 'Brasile', 'Amsterdam', 'Canadian', 'ON, Canada 🍁', 'no stunts', 'mars with bruno', 'home', 'Princess park', 'Venezuela', 'Bronx, NY', 'Cosenza, Calabria', 'lt2 rock era', 'texas', 'Kissimmee, FL', 'love is only for the brave :) ', 'Norridge, IL', 'She/ Her - 19 - Newcastle, UK', 'you bring me home ', \"Harry's House\", 'Worldwide ', '22 | she/her ', 'she/her | 23 | OT5 | TOMMO WAY', 'Connecticut, USA', 'she¡!her', 'Grimmauld Place', '🇺🇸', 'Harrys House', 'nyc', 'Oklahoma, USA', 'Gloucester, England', 'Long island,NY', 'KETTERDAM', 'she/her , (20)', 'she¡her', 'cbyf ◦ 🇲🇽 ◦ she!ella', 'home ', 'new jersey • she/they', 'In my world of no toxic stans✨', '🇲🇽', 'San José, Costa Rica', 'she Her', 'One Direction World🎡🎢🎪', 'Germany , Dortmund', 'she/her ashton owns my heart !', '16 | she/her | anti', 'she/her ✧❥ ', 'Auckland, New Zealand', 'btr on 12/13/21', 'Illinois, USA', 'Ohio, USA', \"harry's house\", 'London', 'love maze💜', 'Cornville Nowhere, Midwest USA', 'Houston, TX / Any Music Venue', 'Stati Uniti', 'ig:@anpau_28 ', 'Higher than stars🌟', 'harry reacted “💍” to “you’re my person” phh’s gf (for real!!!) #fetus era l♡ve bot chris’ girl 💍 ↱safe place (n.) one direction♡✧↲', 'New York, USA    she/her', '19 | she/her | nyc | multi!', 'Milano', 'Italia📍', 'she/her | 15 ', ' ˗ˏˋdelaney lovebot ⋆⁺₊ ✧˖*   ', ' USA', 'Indiana, USA', 'Dijon, France', 'Mifflin & Juniata counties, PA', 'Colombia', 'Lahore, Pakistan', 'will see Marco Mengoni & PTN', 'United States', \"Its nice to know I'm not alone\", '(𝒅𝒓𝒂𝒎𝒂𝒕𝒊𝒄 𝒑𝒂𝒖𝒔𝒆)', 'Chivilcoy, Argentina', 'Rio Grande do Sul, Brazil', 'tiktoker nas horas vagas', 'she/her • 19', 'yellow (n.) louis tomlinson ', 'One Direction ', '🐰🐥', 'she/her⚡ ceo of paperottolo first supporter of taejoonkook  also obsessed with harry styles ', 'Banbury, Oxford', 'Perú', 'Barcelona', 'pa', 'nyc || she/her || 21 ', 'CdMX, MÉXICO.', 'somewhere in my own head', 'Ative as notificações ♡', 'she/her | london seb is mine', 'italy', 'Bradford ', 'Bengaluru, India', 'Oregon, USA', 'Milano, Lombardia', ' she|her', 'Harry’s dimple', 'Bolivia', 'Caserta, Italy', 'Ceglie Messapica, Puglia', '*ot5 ♛ hs2^track 1 ♡ .she/her.', \"♡ choose love always  ☆ in harry's arms  ❁ louis is my sunflower  ♫  hs3 track 5 and 7 \", 'Yuma, AZ', 'Harrys 🏠', 'buddie/akimax/wilmon fandom', ' 5 admins (she/her)', 'Regno Unito', '🤷🏻\\u200d♀️', 'trench•19•she/her', 'No shunts | larrie', \"harry's home\", '𝐓𝐏𝐖𝐊 🌈 🇬🇧 ', 'Kerala, India 🇮🇳 ', 'Arkansas, USA', 'she/her 18 anti', 'LTWT', '21, nj, capricorn ', 'New York / Long Island', 'She/her/hers🫀', 'Wigan, England', 'on a boat she/her', 'Republic of the Philippines', 'Jersey / New York', ' ', 'Los Angeles — Everywhere', 'harry | anti ', 'Planet: Dua', 'Tennessee, USA', 'International', 'Sleepy Hollow, NY', 'she/her | 22 | anti | +18 only', 'ot5', 'daydreaming', 'Paraguay.', 'hogwarts with draco malfoy', 'she/they, 20, anti', 'nj', 'Harrys Lover.. ⋆.ೃ࿔*:･', '|15| she/they', 'she/her- 19', 'Falfurrias, TX', 'im 22: they/them', 'she/her (20)', 'New Jersey, USA', 'long island | 18 | she/her ♊︎', 'Birmingham, England', '24 • she/her', 'Chapel Hill, NC', 'Arizona, USA', 'NJ | 21+ | minors dnf ', 'ela/ele - multifandom ', 'Lancashire ', 'I love Harry Styles', 'Sacramento, CA', '17.she/her🇵🇷', 'non-affiliation, not @harrystyles, parody. 11.05.2020 | 05.18.2021 | 08.13.2021ღ Dad of four.  24 ooc.', 'your heart', \"we'll be alright 🤍\", 'Vigo :)', 'she/her 18', 'Florida, USA', 'josh,shawn,hv follow', 'la ', 'she/her 18+', 'Monopoli, Puglia', 'she/her • 21', '🇮🇪🍀', 'harriehome! harry’s house!', 'He/she ', 'Polska', 'Dundee, Scotland', 'she/her | sapphic', 'Miami, FL', 'desi', 'Hawthorne House', 'Česká republika', 'Twin Peaks ', '5th album track 5, 9, 16', 'Mérida, Yucatán', 'Malaysia', 'she/her 🐝', 'she/her •18• new york/chicago', 'jjong | she/her | 21+', 'Lima, Peru', '❝ you lay with him as you stay in a daydrеam ❞', '18. she her', '“what makes a good loafer?”', '🇧🇷', 'detroit rock city', \"My Gardenia's Hugs \", 'harry,ari,mac,abel,benito', 'Rome', 'she/her | ct', 'Philippines', '22 she/her ', 'SG, ID, PH', 'my bed', 'from the dining table ', 'sturniolo triplets ', '22 | Ⓥ', 'she/her, ', 'harry’s house ', 'blm • 19 • FL • she/her', 'Unas veces aquí otras allá... ', 'The region of the summer stars', 'In Harry’s House🏡', 'ny', 'One Direction', 'Harry’s House ', 'Everywhere you want.', 'new york.', 'Wonderland ', 'Rome, Lazio', 'Idk', 'Dundee', 'Los Angeles|Boston', 'ot5/solo & 5sos', 'Inside your head. ', 'Lincoln, England', 'new jersey', 'nyc • 19', 'Maryland, USA', 'she', 'don’t you call him baby', '14-18 High Street, Sheffield', 'Maspeth, Queens', 'El Segundo, CA', '@suyunsoul', 'angus cloud 9', 'Home is where the heart is…', 'Belgique', 'she/her ♡', 'NJ', 'Chicago, IL', 'ATL', 'Rio de Janeiro', 'Wonderland', 'Madrid, Spain', 'Harry’s 🏡', \"harry's house \", 'Melbourne, Australia ', 'zaman ve boşlukta bir yerlerde', 'The Garden/Harry’s House🏡🚪', 'Amiens, France', 'USA', 'she/her 22', 'nyc she/her. 20', 'nj | she/her | 18', 'BLM - abolish ice -she/her- 21', 'los angeles / boston ', 'she/her | 23', 'A•G', 'new york ', '⊹ ୨♡୧ ⊹', 'Madrid, España', 'fair isle', 'he/they | NY | 21 ', 'Salamanca, España', 'barcelona • 1016 • 1997', 'not harry’s mentions :(', 'Long Island, New York', 'river road', 'New Yawk ', 'Baja California, México', 'Harry’s Heart', '02/04/2018 HS♡ ', \"mel's ♡\", 'she/her 20s', '20 • she/her • fan acc', '🏡 eros & selene', 'OT5', 'she/her | 21', 'she/her | 21+', 'nj | 🇲🇽 | 18', 'ny | 21', 'pourmercymercyonme ♡', 'Minneapolis, MN', 'long island/22', '1D ', 'Montclair, NJ', 'Charlotte, NC', 'Nakauwi Ka Na', 'Avenel, NJ', 'she/her  24 • NY', '🇮🇪 | 20 | she/her', '24 • she/her • tracks 1, 3 & 7', 'the Lone Star state ', 'She/her/hers', 'nyc | she/her | 20', 'on tour ', ' NYC ◕‿◕ (she/her/ella)', 'nyc ', 'nyc | she/her', 'they 17 black', 'Westlake, FL', '20 she/they ', 'Neverland', 'She/her', 'Toms River, NJ', 'Hogwarts ', 'she/her ‣ 18', 'she/her | 19', 's!her/20', 'fearless ❦', 'South Carolina', 'she/her | ny', 'ny she/her {19} 🇩🇴', 'ruel’s hug | ct/nyc | 20', 'Sri Lanka', '🎸🧯🥡💥   she⌗her  seventeen', 'she/her | 18 ', 'nyc • 23 • she/her', 'Delaware, USA', '18 she/her', 'NYC', 'at a concert', 'Marshall & Lilly’s Apartment', 'Bargersville, IN', 'always enough', 'New York, NY.', 'Andrew G.1983', 'LETLENILEAD', \"#yellow(n.)harry,louis  niall horan love bot ◟̽◞̽ all harry’s era;in ♡ w/ fetus louis  《zayn and liam's smile saves me》  ⌕5sos biggest love¡safe place\", 'London (Ealing) and York.', 'la chingada', 'harry styles', 'United Kingdom ', 'Poland', 'Ireland', 'Brasil.', '21 she/her', 'clownelia street', '🇵🇭🇳🇿 | 1d & mcu | 20', 'Dungarvan Waterford Ireland', 'Treviso, Veneto', 'London, England', 'NeoYokio', ' “𝑜ℎ 𝑙𝑜𝑢𝑖𝑠 𝑟𝑖𝑒𝑛 𝑛’𝑒𝑠𝑡 𝑐𝑜𝑚𝑚𝑒 𝑡𝑜𝑖” *andrew garfield gf % protector of shameless and gallavich ', \"Harry's house 🏠 \", 'Milan', 'Imagine Dragons. ', 'Toronto', 'Canada', '• The Revenge • 22 • She/Her •', 'UK', 'Araguaína, Brasil', 'Na casa de harry styles ', 'Pigs can fly...buzzing..', 'slytherin･･ot5¡ot4¡solos･･mari', 'in the multiverse of madness', 'she/her (3)', 'coloratura', 'Chicago Suburbs', 'tweets in 🇵🇱&🇬🇧', 'Brighton', 'Akure, Nigeria', 'louismybecause', 'London.', 'MNL, Philippines', 'lost in liam’s eyes', 'Leeds', 'honeymoon avenue', 'seeing billie next month', 'Princess park with lou and haz', 'harry potter is my comfort ', 'Calais, France', 'pansexual', ' England', 'contatoharrysbrasil@gmail.com', 'Bangkok, Thailand', 'Nottingham Victoria Centre', 'Japan', 'She / they ', 'Dhaka Bangladesh', 'On Top of the World No Capp', 'ただの洋楽大好きマン', 'La Paz, Bolivia 🇧🇴 ', 'Leeds, England', 'relating to Matilda ', 'papagallo', 'Singapore', 'He/him', 'Europe', 'Austria • 4x she/her • 18/19', 'In the garden On the gravel', 'Japan 🇯🇵', 'Bahrain', 'Cardiff', '+63 || she/they', '♐︎ where do broken hearts go?', '(she/her)', 'he/him ', 'scarlett johansson☁️', 'Kraków, Polska', 'ur heart ', 'Sunderland, England', 'Bournemouth, Dorset, UK', 'laying in my bed', '🇮🇪', '4 Pancras Square, London, N1C 4AG', \"•would you believe it? •confort person harry  • zayn best friend  • adore you!  - 3 harry's house   \", 'P3X-774', 'World', 'somewhere in southern italy ', 'she/they', 'Melbourne', 'Gadigal land', 'walls track7 - fineline track6', 'crying over spilled blood', '🌗', 'ppcc', \"Harry, you're no good alone :(\", 'Basingstoke, England', 'June 27 2018 ', 'OT5 always', 'tangerang', 'Mansfield Four Seasons Centre', 'Jersey, CI', 'granolleig', \"Harry's House Apparently \", 'Doncaster-Wonderland', 'taylor.harry.louis.miley.gaga♡', 'clouds☁︎', 'Brisbane, Australia', 'Islamabad', 'Tokyo, Japan 東京都目黒区下目黒3-7-10', 'Vas happenin', 'She\\\\Her Givat Nili  Israel', 'she/her ♍︎', 'thinking about kit connor !!', 'they/them', 'she/her !¡ 18 !¡ solo harrie', 'She/her ', 'waiting to be home:(', 'Chandigarh, India', 'Baden-Baden', 'Pocatello, ID', 'harry is like a shot of espresso, he’s like being bathed in sunlight, he’s energetic and enthusiastic and he has this sense of play and fun ✞', \"Harry's House 🏡\", 'In my head', 'Ciudad de México.', 'Vancouver ,Canada ', ' rodri. ღ', 'in lou’s heart ', 'kilLA, CA • 818', 'Messico', 'Sydney, Australia', \"Harry's house\", 'WeHadSomeGoodTimes,Didn’tWe? ', 'Haven/Hamelia', 'India', 'New Zealand', '❥ in zayn’s arms!! LT2&HS3 track 7 ♬ ༄ my home? oh you mean one direction zayn’s gf for real!!!! ★ ➤ will see louis and nic!!!', 'Trujillo', 'Oslo, Norway', 'Izegem, België', 's!her || 17 || bzz 🏡♡︎', 'Phoenix, AZ', '缅甸果敢老街', 'puerto rico', 'under the canyon moon☽', 'Buenos Aires, Argentina', 'she/her • 23', 'She Her', 'Australia', 'Barranquilla, Atlántico', 'princess park - londres ', 'Cuiabá, Brasil', 'Mexico, Cloud wine ', \"+63; Harry's House\", 'fan acc', 'The Podcast Dojo', 'Spokane, WA ', 'harry’s house | 17 (she/her)', '🇪🇨 || She/Her/Bzz🍯', '*joined october 2020', 'WorldWide', 'Heartstopper🏡 ', 'Midwest, USA', 'Santa Fe, Argentina', 'Love, H', 'Boston, MA', 'Harry’s House🏠🌷', 'Philly', 'Taipei City, Taiwan', 'West Virginia, USA', 'LIAM/4!', 'princess park', 'No stunts ', 'Valdosta, GA', 'Manhattan, NY', 'Austin, TX', 'james potter says “well, fuck white people”', 'honeymoon', 'tpwk, eroda.', '♡Jesus & Harry♡', 'solo harrie / minors dnf', '18🇨🇱  ', 'Santo André, Brasil', '20//she/her', 'cali', '444', '17, she/her •infj•', 'Puerto Ordáz, Venezuela', 'Antipolo City, Calabarzon', 'Rizal (+63) not a minor!', 'My own creative mind', 'Menomonee Falls, WI', 'ʷⁱᵗʰ ˢᵗʳᵃʸ ᵏⁱᵈˢ ᵃⁿᵈ ᵇᵗˢ ♡︎', 'Columbia, MO', 'she/her.', 'Spice World', '18+ | she/her | 22', 'Somewhere in Neverland', 'Fort Worth, TX', 'EVERYWHERE', 'Reno, NV', \"harry's house.\", '🤍 milena ', 'she/her. 🇦🇷 ', 'H.S - L.T - JÃO ', 'Manchester, England', '17 she/her bi latina', ' she/her • 22', 'Texas', 'Michigan, USA', 'Paraíso das águas-Maceió/AL', 'Decatur, AL', 'at the barricades', 'Los Angeles', ' テイラー ', 'Matraville, Sydney', 'North Carolina', 'Daytona Beach, FL', 'Pennsylvania, USA', '💚💙🇮🇪❤️💛', 'El Salvador', 'DIOS♡', 'sumiu, mas volta dps', \"Jungkook's blonde hair\", 'she/her || 21', '📖: the moonlight in your eyes', 'Medellin', 'New York City', 'Guayaquil, Ecuador', 'North West, England', 'dominicana', 'she/her/they', 'Eme ❣️', '🖤', 'no stunts | ot5 | she/her', 'Spain ', 'حسرت واندی', '💌…listening to taylor swift', 'us', 'Yucatán, México.', 'Disneyland', 'AND GLAM', 'Flavortown ', 'Beachwood Cafe | 🇵🇷🇵🇷', 'Bossier City, LA', 'Massachusetts ', 'Belo Horizonte, MG', 'Harry', 'California, USA', 'Ashburn, Chicago', 'ᗢ ۞', '24, he/him/his', 'Cavite', 'Killeen, TX', 'a/ela/-a', 'Bangor, ME', 'São Paulo', 'Jaguarão, Rio Grande do Sul', 'Newcastle Upon Tyne, England', 'church of burnt romances💒', 'South Carolina, USA', 'Genoa City, WI', 'Ciudad de México', 'treat people with kindness ', \"home = louis' concert\", 'My Very Cluttered Mind Palace ', '2️⃣8️⃣', 'Araucanía, Chile', 'SAW LOUIS & WILL SEE HARRY !!!', '🇨🇦Twitch: WaterishTiger41', 'South River, NJ', 'uk / uae', 'Harry Styles Says He’s Grateful for Billie Eilish: ‘She Totally Broke the Spell for Me’', 'Nicaragua', 'wherever you are♡', 'shawn followed 12/3/20', 'Getting my sparkle on ✨', 'my sunshine smile ', 'scorpio₊˚.༄', '(She/her) 17', 'I will see Shawn,Lou,5sos,OTP', 'Barcelona, Catalunya', 'she/her || larrie bzz', 'listening to zouis high notes', 'Napoli, Campania', ' currently shopping for rings with @Harry_Styles', 'HLNZL ', 'Rebornland/🇨🇱', 'Z land', 'Manila City, National Capital ', 'Inghilterra, Regno Unito', 'In Harrys sweet dreams✨', 'West Midlands, England', 'Extremadura, España', 'Asgard🌪', 'na puta que pariu', 'Darug land, Sydney', 'Buenos Aires', '🪐', 'Ida-Virumaa, Eesti', 'South Africa', '‘•.¸♡ she/her, 25 ♡¸.•’', 'Valencia, España', '3miasto', 'Medellín-Colombia', 'she her', 'AO3 | OT5 larrie ', 'corinthians ', 'Castelló de la Plana', 'Goiânia, Brasil', 'Everywhere You Want to Be', '߷ 𝐇𝐚𝐫𝐫𝐲 𝐒𝐭𝐲𝐥𝐞𝐬 ߷ ', 'she/they ', 'princess park ', 'FOREVER¹D', 'Lakeville, MN', 'ytown :)', 'Salamanqueta ( . )( . )', 'she/her•19', 'Sardegna, Italia', 'louis ', 'Asgard ', '𝐞𝐥𝐚/𝐝𝐞𝐥𝐚', '𓆟 𓆝 𓆜', 'its a bad day not a bad life ', \"St. John's, Newfoundland and Labrador\", 'en tu bobo♡', '\\u200eearth', 'will see H & 5SOS', 'Mexico', 'new york, ny', '20', \"in one direction's heart✰ asia&sonia ♡ part of one bakery!! Harry? oh you mean my sun ☀︎︎ she/him\", \"laughing through payne :')\", '✨Red eye supremacy✨', 'The North Pole', '🇫🇷', 'a guardare la pioggia', 'uk', 'vedrà louis💙', 'Worcester, UK ', 'Donde mueren los sueños', 'Hattiesburg, MS', 'NYC baby', 'Karnataka,India.', 'Belém, Brasil', '✡︎ harry,niall . Snape. Bi.poc', ' no stunts || amc', 'Polska, Oświecim', 'Harry’s house', 'Maringá, Brasil', 'OTRAVienna,WWATSanSiro', \"harry's 🏠\", 'Sergipe, Brasil', 'Chicago', 'Puta que pariu', 'no way home ', 'Tucson, AZ', 'San Antonio, Texas', 'Salt Lake City, UT', 'Phoenix, Arizona', 'Dallas-Fort Worth, TX', 'Spain is different', 'Staten Island, NY', 'little mix follow 23|01|15', 'Santa Marta, Colombia', 'harryshouse~°•`', 'na coxa do harry', 'Arras, France', 'Princess Park, Doncaster', '213 days to see you h', 'Slovenia', 'with my husband Niall', 'San Paolo, Brasile', 'justin bieber', 'La Serena, Chile', 'with ur mom!! prob crocheting', 'She/Her | 21»', 'Florence, Tuscany', '#YYC ', 'Lgbt community', 'Castalla, España', 'Caracas, Venezuela', 'harrys house ', 'Mind Chalet ~ Portland, Oregon', 'SF Bay Area', 'MindScApe Entertainment(R). ', 'tokyo', ' 20+  she/her.', 'honeymoon avenue ', 'harrys house', '❤️', 'Ruse, Bulgaria', 'Dominican Republic', 'New York, New York', 'eroda', 'Detached ', 'Boulevard de los sueños rotos ', 'sjsu', 'Argentina ', 'smoking with louis and zayn🚬 my home? 1D, 5sos, shawn, yungblud  my yellow? oh you mean mimi 💛 Lost in Wonderland  home 🏠 ', 'Recife, Brasil', 'she♡her ', 'Harry’s House ☼', 'they/she', '𖥻 lhh’s gf (for real !!)  ‘home’? oh you mean louis . . .★ walls - track 12', 'cuiabá', '💜💚♎️', 'ojalá en Noruega:(', 'in culo al mondo✨', 'germany', 'the music', 'The CBeebies House', 'Pittsburgh, PA', \"Harry's House   She/Her\", \"louis' heart \", 'Ateez in Madrid 23/04 & 24/04', 'somewhere on earth', 'saw louis ', \"in Louis' arms \", 'Larry Is Real', 'Sydney', 'Daytona Baby', 'Southern California', 'Home', 'Nederland', 'Disney world \\U0001faf6', 'H.', 'Harry’s Home ', '*･barb’ kitten /ᐠ. ｡.ᐟ\\\\ᵐᵉᵒʷˎˊ˗', 'Gelderland, Nederland', 'Al prossimo concerto di harry', 'california', 'pluto', 'Houston, TX', 'Cleveland, OH', 'sadness', 'Portland, OR', 'canyon moon🌙', 'ashe’s gf !!!', 'Forks, WA', 'dilligaf', 'con il cuore a bologna', 'Candyfornia', 'LOST IN THE CITADEL', 'any pronoun ', 'Harry’s House 🕺🏻', 'she her | 1 admin', 'Poznań, Polska', '19', 'Satellite ', 'Italia🇮🇹/ \"This Town\" NH', 'she/her | 22', 'marvel anime books', '@Iightsrush💗 | daïloustophan!', 'Krusaa - Denmark', 'a fangirlare con Niall Horan ', 'Somerville, MA', 'The Upside Down', 'ad un concerto- she/her', 'Sonora, México', 'she/her,17', 'olcia\\U0001faf3🏻', 'Belgium', 'New Delhi, India', 'Berlino, Germania', '📧 thehsbrasil@gmail.com', 'Somewhere On Earth', 'roleplay. ╱ not affiliated with @iHeartRadio.', 'Middle East.', 'Roanoke, VA', 'Doncaster, England', 'one direction ', 'Milwaukee, WI', '16,Bi,Any prns🏳️\\u200d⚧️', 'Your dads house', '15,she/her', 'min yoongi🎈', 'princess park, dybala’s arms ', 'Lebanon 🖤', 'She/her🏳️\\u200d🌈', 'she/her 20 ', 'TON 618', 'Wisconsin, USA', 'Kaotica/Harveytown', 'Mexico City', 'Instagram: saramyname_98 ', 'tx', ' NOSTALGIAWHATAFUNNYFEELING¡', '🐝🐝', 'Bluegrass State', 'she-her', 'no stunts🌱', 'Prod. Clandestina Gelsomino', 'Jennielandia', 'harry’s house | track 8', 'Tuxpan, Veracruz de Ignacio de', \"everything's changed outside\", '✌️', 'louis is my person', 'Rio Grande do Sul', 'North Carolina, USA', 'Kwangya ', 'Stream Fine Line', 'one direction', 'ns larrie// she/her', 'Tocantins, Brasil', 'Stockholm, Sweden', 'away from home festival ', 'Hawkins , Indiana ', 'Querétaro Arteaga, México', 'canyon moon ', 'aries ☼ virgo ☽ capricorn ↑', '𝟚𝟠 she/her ', 'Asuncion, Paraguay', 'Arusha, Tanzania', 'harry styles house', 'Amersfoort, Nederland', 'with vee!', 'En tu calzón ', 'station 19 season 2', 'Stockholm, Sverige', 'jugando al fútbol con louis♡', 'Groves, TX', '🇬🇧 || 💙💚', \"harry's house • twd\", 'Chihuahua, México', 'they/he/she', 'She/her no stunts', 'Newark, NJ', 'Arcane ', 'somewhere by the sea', \"in Harry's 🏠\", 'B ♡︎🕊 || no stunts ★ ', 'scotland', '134340', 'Berlin, Deutschland', 'Amsterdam, Nederland', 'Dublin City, Ireland', 'Aalborg, Danmark', '100 +', 'Chesterfield, England', 'Ur mom ', ' Elfhame *✧･ﾟ*', 'Nuneaton, England', \"taylor's version\", '📍Marvel (València)', 'in love with harry styles', 'way too far up harrys ass😋', 'she/her • 20+', 'Scotland, United Kingdom', 'nowhere', 'don’t forget where u belong🤍', 'Calabria, Italia', 'Barcelona, Cataluña', 'Slytherin', '  she/her ・17 • 1D/solo stan', 'Peepeekisis 81, Saskatchewan', ' Costa Rica ', \"🪟🪴 Harry's House\", 'uk • she/her • 22 • nsfw', 'actorry\\U0001faf6🏻', 'she/her • 22 • ', 'Seattle, WA', '˚ ༘ ༄ؘ  rp. 21+. mdni.', 'greta ✰ piadina ✿ fenkiu ♡', 'Brooklyn/LA', 'ovunque sia niall ☁', 'bi !', 'good years | -3 -25', 'w środku pomorza', 'Cincinnati, OH', 'Guatemala', 'קָרוּעַ', 'hug dealers', 'Germany', 'Beacon Hills 🥍', '21 ooc. MDNI. single. select.', 'Beacon Hills', '27 y/o • Louisiana, USA', 'Aitaner // bzz', 'Sûrement au bord de la mer', 'Tbilisi,Georgia', 'she/her 17', 'Dallas, TX', 'London, UK', '«Ridi mai davvero, my lord?»', 'Lisboa, Portugal', 'Avellaneda, Argentina', 'Afterglow', 'Cool City USA', 'h styles 4x grammy nominated', 'Long Island/Ti/Bermuda/SIC', 'Francia', 'she/they||16||pan🏳️\\u200d🌈||poc', 'let.', 'ハリーの家 #TPWK 🍋', '♡︎ eu e zayn f1 !¡', '24 yo, Wrocław, she/her, ♏', 'faith in the future', 'this slope is treacherous ', 'solo h', 'fratus louis owner', 'Vail, AZ', 'UK London  ', 'Bangkok', '| wherever you are♡ |', 'Nagaland,India', 'she/her ♫', '《°no stunts`》', 'no stunts/she.her', 'TPWK', 'Medellín, Colombia ', 'Barranquilla, Colombia', 'icarus falls | uk', 'Italy ', 'Indonesia', 'solo harrie ! she her ! 19', 'HE/she', '⊹ׂ.•LT2 ֹ᩿ 𝅄𓏲', 'România, București', 'hslot', 'Ella/Her🇨🇴', 'she/her 💙💜💗', 'Yucatán, México', 'Ciudadano de este mundo 🌎', 'Ela/dela ', 'Maitland (NSW)', '18', 'Vita brevis, ars longa', 'late-twenties impasse| she/her', 'Deutschland', 'LT2 is coming¡! ', 'Vancouver, BC Canada', 'ela/dela', '🏠pubert Louis, bzz', 'Barranquilla, Colombia.', 'notts uk', 'Neo City', 'obviously', '» 24/7 thinking about SG3. ', 'San José, Costa Rica. ', 'sccp', 'Sverige', 'Tucumán, Argentina', 'Dallas, Texas', 'Gainesville, FL', 'they/them/she/he      lesbian', 'late night talking best stan', 'sorriso do louis', 'CL16 • MV1 • LN4 • CS55 • DR3', 'Honduras', 'she/her | no stunts |', 'she/her | 24 | latina', 'Goshen, IN', \"Bib's\", 'San Jacinto De Yaguachi', '5’9” boys 💕', 'USA ', 'as it was', 'm-meow', 'Westview', 'ot5; bi', \"Trudeau's prison\", 'Los hoyuelos de Harry Styles', 'Sam, my home', '♡she!her | solo | 17', '💙💜💖', 'HARRY’S HOUSE', 'Sevilla, España 🇪🇸', 'Dublin, Ireland', 'at a harry styles concert', 'In Louis’ heart (she/her)', 'state of distress', 'ily but i’ve choosen versace', 'Salvador, Brazil', 'mis favs mi casita🏡', 'London, England 🇬🇧', 'Ireland/concerts', 'Mayo 20', 'Pontypool, Wales', 'Beneath publications pile', 'Sicilia, Italia', '28 • she/her', 'TDE | lali', 'she/her       japanrry💘', 'red', '1111', '...', '|24| |she/her|', 'svt | bts | exo | txt | wei', 'lawrusso word ', 'Greenwich, London', '📖: my policeman ', '🌱ৎ୭ ', 'CE', '20 | she/her', 'her/him;  thousand notification', 'fan account', 'Napoli: sfacciata, esuberante, affascinante,\\raccogliente e sensuale. O, forse, quello era il luogo che piú somigliava a Will Chase.', 'İstanbul', '𝒆𝒔𝒕𝒆𝒍𝒂', 'London, England / Hogwarts', 'ERODA', 'Coventry', 'argentina, lamentablemente ', '3', 'Amherst,Massachusetts Alex est ma moitié  삶? Taehyun!! Wonderland avec giu ♂', 'Italy • she/her', 'Guwahati, India', 'to far from 1d', 'USA TODAY HQ, McLean, Va.', 'Firenze, Toscana', '23 | she/her | anti', 'chill, breathe, fuck it', 'Ela/dela', 'NYC ', 'she/her 🐌', 'Roma, Lazio', 'The grove', 'Dublin Ireland', 'Spain or wherever you want', 'The Shires, England.', 'London/Amsterdam', 'Gdzieś ', 'she/her ⁕ 18 ', 'Bly Manor ', 'País Vasco, España', 'ot5 + solo', 'you are amazing! ❣️', 'madrid ', 'she|her', 'MediaCityUK, Salford Quays', 'Cape Town, South Africa.', 'France 🇨🇵', \"we'll be alright \", 'Hell', 'Eroda ', 'Tychy, Polska', 'NO STUNTS!!!', 'timothée and louis', '◟̽◞̽', \"Hell's Kitchen, NYC\", 'she / her', 'Łódź, Polska', 'cosmos ', 'dutch, she/her', 'Stuttgart, Deutschland', 'wonderland', 'Marion 🤍', 'Houston,TX', '18 | she/her | filo', 'Germania', 'Your mom’s house', 'lost between Paris and Rome', 'Interior Delusions Lounge', 'New jersey ', 'Seoul, Republic of Korea', 'still recovering from nwh', 'Never been so defenceless!', '🏳️\\u200d🌈', 'Shell City', 'she/her 23', '˗ˏˋ girl almighty ', 'ur mums house ', '☁️', 'Piemonte, Italia', 'Milton Keynes, England', '❤', '06.07.18 - Liam 🤍', '18 ~ no stunts ~ any pronouns ', 'In this magickal universe', 'daytona baby', 'she/her - 22 - ot5 ', 'Constantine                   ', 'modelling in the 90s', 'Silver Streets & Neons Signs', '(a/ela) (she/her)', '𖤍◟̽◞̽', 'lumilipadpad', 'She/her|Larrie|No stunts|Ot5', 'shouis ৎ୭', 'hope,coffee,poetry ', '20, she/her, nsfw', '🇹🇷', 'she/her belgium:)', '🍓 hayley', '『she¡her | no stunts』', 'ltwt', 'crying to copy', 'missing niall', 'heartstopper era ', 'aus • she/her ', \"in niall's arms\", '📖: daisy jones and the six', 'your fav gay cows', 'Australia || 23 || She/Her', 'Philippines 🇵🇭', 'turn on notifs', 'Mesa, AZ', 'ph', 'Ecuador', 'California', 'dead poets society', \"harry's house  .•° ❀\", '♡ Eli ♡', 'She!¡Her•17•neutral•🇫🇷', 'North Carolina, USA | she/her', 'Córdoba, Argentina', 'Palm Springs, CA', 'bzz | 19', '🇧🇪', 's-her | slytherin common room', '20s /  harrykarma ', 'she/her  |  21', 'Curitiba', 'she / they', 'Chaco, Argentina', 'she/her!17+-+', 'z enthusiast | FAN ACCOUNT', '23 | she/her | queer', 'Toronto, Ontario', '╭──╯ . . . . . . . . . As It Was  ⇢ NOT @Harry_Styles   rp/fl ↬ 18+                        MDNI ☼ he/him   #cherrygolden', 'eroda / 🇵🇭', 'San Luis Potosí, México', 'he/him/they (fine with any)', 'Athens, GA', '(24) A CONCERT', 'turn notifs on! ', 'chips ahoy notice x 3', 'Harry, Argentina 🇦🇷', '16 | she her', 'harrystyles //05-01-18//', 'she/her | 18', 'harry’s house ♥︎ ', 'she/her✨20', 'no bzz', 'Brejo Santo/CE - São Paulo ', '1989', '🛌', 'kiwi 🇳🇿|| mcu', 'any pronouns ', 'Los Angeles, CA/Hollywood ', '𝐟𝐜 𝐠𝐨𝐥𝐝𝐞𝐧 (she/her)', 'D.R | 7 admins | she/her', 'Brazil', 'Providence, RI', 'SHROOM BLOOM (17)', 'ele-dele !! ', '•bi•she/her•19•', '2 admins ', 'sabs mccuties 2.0 ✨', 'Al fondo, a la derecha ', 'CDMX', '19 - she/her ', 'Tokyo Japan', 'she/her🧸☁️🌷🐇🪴🫖 i ♡ larry', 'Bangtan Universe', 'admu ‘24', 'BTS hearts', 'N/A', \"louis's gf\", 'pearl of the orient ', 'she/they !', 'Harry’s House & Disneyland', 'CEW', 'Alabang, Muntinlupa', ' Vachi and Harry', ' PHrincess park        she/her', 'ZADDY ZAYN😚', 'Taguig City, Philippines', 'sa sulok', '📍pearl of the orient sea', 'mentally best friends with harry styles', 'Min Yoongi', 'two ghosts', 'idk ', '🐈\\u200d⬛', '\"we stand together\"', 'she/they queer', '+63', 'Columbus, OH', '「 multi 」— rcbyf', 'nj || she/her || 20', 'she her ', 'Coxa do Harry', 'Coxa Do Harry Styles', 'here', 'the fruity man', 'niall follows', 'Id rather be at a concert ', 'anywhere but here', 'Málaga, España', 'nyc ☆ 21 ☆ she/they', 's!her . 🧸', 'Pacific Ocean', 'Minas Gerais, Brasil', 'london | ot5 | 20', '+𝟵𝟵 𝗳𝗶𝗹𝗲𝘀 📂 ˒ 𝐈𝐍𝐄𝐉', 'Essex', 'ela, dela', 'coração do hariel', 'Harry Styles🖤', 'offthetable', 'Irún, País Vasco', 'hogwarts ', 'another reality (literally)', 'i 💍 harry styles ', 'her ', '#1 leave me lonely stan', 'JEDDAH', \"with Liv in Harry's 🏠\", 'Turn On Notifs‼️', 'Tablada', '19, italy 🏳️\\u200d🌈', '🇦🇺', 'Dragonstone, Arnold’s Room', 'you′ve begun to feel like home.༄  ♡ in louis’s arms ☼ 𝓗(ome) 『 fetus larry  』 ✰ ℒ 10/04  ~ « i will see louis and harry on tour. fedez ♡ ', 'purgatory', 'Hearts of 1D', 'any prns | 17', 'amznation', 'ur mom', 'Porto, Portugal', 'Harrys house', 'Your heart ♥︎', 'Orlando, Florida', 'Niall Horan & JB follows :))', 'Brasília, Brasil', 'East Sussex, England', 'New Brunswick, Canada', 'he/they ; bi', 'camp half-blood, cabin 7', 'nobody is listening to me ', 'Budapest', 'Scranton, PA', 'Bhubaneswar, India', 'she/they , 18', '1989 era', 'Only Angel ❦︎', 'Hope World ', 'crema,Italia', 'Siqueira Campos, Brasil', 'in love with otp ♡', 'region of the summer stars', 'she/her | 19 | ot5 | larrie', 'she/her  mar lovebot      cbyf', 'El cantón de los tamales.', 'Lorain, OH', 'new york', 'admin: 16, they/he', '20 - she/her', 'rcbyf | adm 22 | fonts dni!', 'Dominican Republic ', 'ver’s heart. ', 'Ribeirão Preto - São Paulo', 'Hslot/21', 'd PR mmb d dnd quieres ser tú', '3 March ', 'With LarryS', 'Chesapeake, VA', 'earth', 'Earth', 'Brazil ', '956', 'Idris', 'she  her', 'ʜᴀʀʀʏ ᴛᴇ ᴠᴇᴏ ᴇʟ 𝟶𝟹/𝟷𝟸 ♥︎♥︎', 'Gujarat, Vadodara ', 'bzh', \"'i heard a rumor, ⠀ ⠀⠀⠀⠀⠀ ⠀⠀⠀ ⠀⠀⠀⠀⠀ ⠀⠀⠀ ⠀⠀⠀         it's medicine and molly ⠀ ⠀⠀⠀ ⠀ ⠀⠀⠀ ⠀⠀⠀ ⠀⠀⠀ ⠀ ⠀⠀⠀ you're blacking out' \", 'Boston, England', 'only the brave ', 'En tu corazón bb, lot & ltwt ♡', 'My forever 1D Family tweet', 'Sri Aman, Sarawak', \"La Vall d'Uixó, España\", 'Waco, TX', 'kit connor | bzz', '17 Cherry Tree Lane, London', '16.uk.irish ', 'viendo heartstopper con H y L', '-201 & -5 days to go home ♡', 'stars (19) she¡!her', 'Closet she/her', 'يهمك؟', 'Lisbona, Portugal', 'In Niall’s arms', 'Barcelona, España', 'Asbury Park, N.J.', 'Redditch, England', 'glasgow ', '🇮🇹', 'Magari un giorno a New york', 'she/her; 17; Ukraine', 'Daytona Beach', '17 | she/her', 'vivere sulla luna 🏠 the nbhd ', \" in zouis's arms •₊°✧\", 'ot9/solo stan', 'harry styles’ heart', 'Harrysbed', 'she/her 🇱🇧', 'syd, australia ✨', 'books', 'Torino, Piemonte', 'Republic of Korea', 'london', 'ceb • ilg , pilipinas', 'sótano de Cry', 'neutral - 17+', 'Larrie def;tumblr || ziammie', 'Taylor', '🏠', '17||she/her||larrie(no stunts)', 'she, her, hers', 'En el universo ', 'aus | she/her | 18+', 'hogwarts', 'promise ', 'harrystyles | 18 | she/her', 'Harry’s House🏠', 'sushi restaurant', 'long island ', 'nj/ny', 'Leça da Palmeira, Porto', 'mi casita ', 'HSLOT 30.10.21/ LT 12.02.22\\U0001faa9', 'fã de banda morta', ' ↳ she!¡her || 19 || neutral', '◟̽◞̽/Harry.Louis/Songs/♡', 'DC / MD / VA', 'H & L  ʚ♡⃛ɞ bzz', \"my larents' house\", 'Washington, DC', 'Montevideo, Uruguay', 'Edinburgh, Scotland', 'black • he/him • nineteen', '22 she her', 'A place in this world', 'San Miguel el Alto, Jalisco', '𝑒𝑟𝑐̧𝑒𝑙 - 𝑠𝑡𝑦𝑙𝑒𝑠 ', 'wherever the rainbows are', 'ur moms houss', 'Distrito Federal, México', 'ot5/solo stan ', 'she/her | solo harrie ', 'Joined twitter in: July 2018', 'Louis tomlinson home', 'he/him', 'Birmingham, Alabama', 'Pittsburgh PA', 'Columbia, SC', 'Memphis, TN', 'Allentown, Pa', '¡ot5! 📦 she/her', \"Harry's Ass\", '20, 21, 21 nyc', '23 multi.latina ✿∘˚˳', 'the moon', 'ウォール・ローゼ', 'new jersey | he/him', \"Larrie Ziam Niall'slaugh🍯🍯🍯\", '1788', 'Grosvenor Centre, Northampton', 'Solihull, England', 'ot5 || always in my heart 💞', 'Auburn/Opelika, AL', 'Albany, New York', 'Rochester, NY', '♀️ | 18 ', 'Baltimore, MD', 'Hartford, CT', 'south africa ;)', 'he | she', 'Bethlehem PA', 'painting of van gogh', 'she/her | 20', 'willow', 'the pink palace ', 'Harry’s house  ✿ 15  ✿ she/her', 'América Latina', '512', 'American Expat in Costa Rica', 'she/her, 15', '2OYO ✭˚*･ﾟ✧* SHE/HER !!  ♡M ✭˚*･ﾟ✧* nancy&nic ♡  disconnected #1 fan rose ring CEO', 'she!¡her', 'akademia prankuw cheetos', 'Canyon Moon', 'Earth ', 'hufflepuff dorm', 'jebem ti majku', 'Ukraine', 'Switzerland', 'biebs! 294 ♡ 37', 'HARRYS HOUSE', 'Your moms house', 'Love On Tour', 'Doncaster Dome ', 'Oxfordshire ', 'Tu cora beibi ', 'Chiba, Japan', 's/her', ' ˖⋆ ˎˊ-', 'Asian•22•she/her•solo harrie', 'Landon', 'Virginia, USA', '༄ header - bunihs (whi)', 'Minnesota, USA', 'global citizen ', 'they/them | cbyf | 18+', 'kaeya’s lap ', 'Boston', 'Intercourse, PA (she/her)', 'they/he', 'harry or nothing 🧁🧁🧁🧁 she', 'Washington, USA', 'Scotland forevaaa, she/her, 15', '/ᐠ｡ꞈ｡ᐟ\\\\', 'he/him ♡', 'harry and louis? . . . harry and louis! they saved me in every way that a person can be saved ', '👅', 'She/her • 18', '14 she they', 'Alajuela, Costa Rica', 'without conan 💔', 'en una nube de algodon ', 'F l o r i d a', '...around', 'Aquí', 'dfi bzz', '❄ Winter Wonderland ❄', 'Larrie    🍯', 'sushi restaurant 🍣', \"Alex Angelo's ❤\", '୨୧ ˖ ˚ 👼🏻 ˖ *.✧', 'usa', 'Małopolskie, Polska', 'Vosges, Lorraine', 'Z-City', '22 • 🇵🇹 • she/her', 'Outra Galáxia', 'lights up and they know who you are, know who you are, do you know who you are?', 'Finland', 'Санкт-Петербург, Россия', 'bay area', 'DAYTONA BABYYY', 'i \\U0001faf6🏻 blonde dua', 'she/her  | tpwk', 'ela(eu) dele(Louis)', 'Santiago, Nuevo León', 'fan acc || Kia Kaha', 'en tu corazón :)', 'Bogotá D.C., Colombia', 'places we can’t even pronounce', 'Idk ', 'i saw 1/5 one direction', '24 | she/her | Argentina | 16+', 'Ontario, Canada', '⅕ bischere          SHE-HER', 'Scranton', '21 • she/her ', 'he|him', 'Philadelphia', 'she/her 15', 'uranus', '🇵🇪 | 21 | she/her/ella ', 'Massachusettes', 'Atlanta, GA', 'Hogwart', 'hstan', 'Puebla, México', 'in your heart ', 'Rośliniara i książkara ✨', 'México ', 'she/her (19)', 'slytherin | intj', 'She/her/hers ', 'Seattle, WA ', 'Belo Horizonte', \"Esperando Harry's House\", ' 💖💜💙', 'Missouri', 'asunción', 'Harry Styles Live on Tour ', 'rj, brasil', 'my policeman enthusiast     ⌗1 Nana’s House stan !! — TRACK 13 IS MINE', 'Massachusetts, USA', 'Wandering...', 'Laurel Lane 🌿🌿', 'She her', ' 16 ✵ ot5 ✵ larrie', 'maisie’s rat 𑁍 she/her •20•', 'finelinera', 'coney island', 'TX', 'Chile', 'she, her ', 'In da dark listenin to 5SOS', 'Wien, Österreich', 'Kentucky, USA', '18+', '8•24•15 ♡ 9•25•17 ♡ 25✨she/her', 'Home 🏠', 'Bucky Barnes', 'cherry pp', 'NYC (SHE/HER)', '♏️🦂', 'Mendoza, Argentina', 'In the world', 'she/her :) || larrie', 'she/her-16', \"Harry's dimple \", 'Andalucía, España', '1DDay ', 'São Paulo, Brasil🇧🇷', 'Antwerp, Belgium', 'he/they -🐝', 'ANGELNATION ', 'Sherbrooke, QC Canada', '20 • she/her', 'ATX', 'New Jers', '༉‧₊˚✧ she/her', '18|| s;her:)', 'holmes chapel', 'a she her on eroda.', 'She/her || ot5 || 14 || 🍄', '★ She her  ', 'she!her', 'wonderland ', 'Larrie ||no bzz', 'hogwarts ⚯͛   |   ♏︎ ♑︎ ♐︎', 'Ela/Dela ', 'Niall’s arms🤍', 'beachwood café', 'Chiclayo, Peru', 'coxa do Harry styles', 'xolo maridueña ', 'Cabo Frio, Brasil', 'Larrieland ', 'she her • 21 • 3&8 • tpwk', 'ෂ', 'somewhere far away from here', 'somewhere only we know', 'en un concierto de lou ', 'solo h 🐇', '♊︎ ~ intp ~ 16 ~ she/her', 'ni 🍒she/her', 'Belfast, Northern Ireland', '25 🇧🇷 she/her ', 'Loures, Portugal', '18 • she/her • Idaho ', 'Petrer, España', 'Kildare , Ireland', 'Sicily, Italy', 'Royal Wootton Bassett, UK', 'india', 'Bogotá, D.C., Colombia', 'Warsaw, Poland', '— yellow (n.) louis & billie', 'ᵗᵉˡˡ ₘₑ ᵖʳᵉᵗᵗʸ ₗᵢₑₛ ˖⋆ ˎˊ-', 'São luis, Maranhão | London,Uk', \"i don't wanna look at anything else  now that i saw you i don't wanna think of anything else  now that i thought of you ( she her ) \", 'in my dreams with one d 💌', \"in Niall's arms\", 'Parigi, Francia', '28, they/them', 'she\\\\her', '5SOS', '東京都渋谷区神南1-22-14', 'fanaccount', 'Spain', 'Taylor’s and Dua’s heart', 'any pronouns | 17 | ot5 🖤', 'Salem, OR', '𖡼.𖤣𖥧𖡼.𖤣𖥧', 'Lille, France', 'love will tear us apart', 'she/her ⋆ 20', '💚', 'Hogwarts', 'she/her II 17🎈', 'track 4 y 7 ', 'she/her/ella', 'SHE HER - 18  cr: defy me by tahereh mafi', 'India ', 'fan account ♡ OT7', 'Raleigh, NC', 'ella🐔', '{he/him} ', 'Here.', 'Baraboo, WI', '21 • bi • she/her', 'Sydney, New South Wales', 'she/her 🏳️\\u200d🌈🇦🇷 (20)', 'she/her - gemini ', 'black', 'she/her|24', 'Inglewood, CA', '23 • they/them • 🇦🇺', 'my couch', 'he/she', \"lou'hazz'josh 🇪🇨\", 'bzz🍯/mexicana ', '20 • she/her • anti • dnf-16', 'chicago', 'Planet Earth ', 'New South Wales, Australia', '*points to the sky*', \"Liam's house\", 'Music for a sushi resturant ?', 'De joda con Louis', 'sicily', 'Faith in the future ', 'Egypt', 'Lost in Zayn Malik eyes ', '🐇🐇🐇', 'Georgia, USA', 'Hiddles', 'midgard 616 ', 'on my way to wonderland ', 'Rabbit hole 🐇', 'wooyoung', 'Harmy, 20. ', 'Legnano (MI) Italy', '🏴\\U000e0067\\U000e0062\\U000e0073\\U000e0063\\U000e0074\\U000e007f♿', 'b&b | lmp', 'Honolulu, HI', 'only the brave', 'New Orleans, Louisiana', 'she/her 🌻 16', 'Windermere, Lake District 😎 ', '📍Sheffield, England', 'Santander, España🇵🇱', \"Felix's freckles ♡\", 'Burbank, CA', '¿a dónde vamos?', '19 || 🇲🇽 🇳🇴 ', 'Las Vegas, NV', 'mx', 'Nancy, France', 'Beauvais, France', 'turn on post notifications!', 'LOVE ON TOUR', 'Bavaria', '𝑁𝑜𝑣𝑎 𝐼𝑜𝑟𝑞𝑢𝑒', 's!her - larrie NO bzz', 'half the world away', 'where we’ll be alright❗️', 'ประเทศไทย ', 'Spring Hill, FL', '🇲🇫•𝓜𝓪 𝓹𝓮𝓻𝓼𝓸𝓷𝓷𝓮 c🌙', 'On Tour With Niall & Harry', 'Somewhere in chicken land 🐔', 'louis ꨄ︎', 'she her la', 'PE 🇵🇪', 'she/he  ⠀⠀⠀ ⠀ ', 'harry’s baby honey', 'graphistarmy ', 'ig b3tsy3sumpt3r', '22 || she/her', 'she/her, 20, uk', 'she|them', 'she/her • 21!', 'England', 'Ajaccio, France', 'Göteborg, Sweden', 'somewhere in southern italy always in wonderland my h♡me? oh you mean one direction will see louis!!! (MIL x2, RM )', '23     she/her', 'my sunflower is Louis ࿐*:･ﾟ', 'France ', 'She/they', \"i hate pet names, so don't pls\", '18 she/they', 'she her 17 ', '19 she/her', 'Harry ♥︎', '19 | she/her | fan account', 'some people, you bathe them in those lights and they disappear. but some people, they glow. harry was like that.', '21+|no nsfw|BLACK LIVES MATTER', 'she/her | 20 | libra | ', 'Nord-Pas-de-Calais, France', 'Løren/dpr/Ash island', 'CDMX / QRO', '...she/her', 'she/her, 21', 'Tempe, AZ', '—★ she¡her ꒱ track 8 & 11', 'she they ', 'Weslaco, Texas', 'she/her — 18', '✌️🖐 | 18', 'she/her l 16 ', 'hslot 18/6/22 ', 'and so the lion fell in love with the lamb ', 'she/her/ 22, dnf -17', 'she/her 𓏲 ๋࣭ \\xa0eighteen', 'harrie. she her', 'she/her • 19 • unlabeled', 'they/them • 27', 'she her 17', 'she her 18', 'she he cbyf', 'she/they 15', 'тнєу/тнєм/𝚑𝚎/𝚑𝚒𝚖', 'she/her 18 🇲🇽', 'sf . she her 18', 'she/her 15 ', 'lil peep enthusiast ', 'Now Romeo and Juliet, Bet they never felt the way we felt!', 'she/her ♥︎ 20', 'read carrd byf ', 'she/her | anti', 'she/they 🇲🇽', 'Ankeny, IA', 'he xe ', 'home?! oh you mean harry  in zayn’s arms ࿔*:🖇 💌- we’ll be fine line  I’m half a heart without oned   ╰► waiting for HS3 ˊˎ˗', 'w harry rn tbh', 'desi  she/her  solo harrie !! ', 'at the met gala w Billie', 'harry’s left dimple', 'she/her | 19.', 'sixteen | she/her', 'she/her ; 20  ❁  books  🩰☕️🦢', '         she¡her           111', 'she/they! anti! ', '20 | she/her ', '22  || she/her', 'she/her 20!!', 'she/her | 3, 9, & 13 | anti', '| anti | she/her | 6teen | ', 'Latina | 19 | she/her | anti', 'she her | 19 | dni -17', 'lady bird enthusiast', 'she/her 20', 'Argentina 🇦🇷', 'she/he | mixedblack | 18', 'harrys house | she/her 18', 'hersh | track 3 & 7', 'she❀her aquarius ☾ anti  ', 'ftdt ⚘ she!her ⚘ 21+ ⚘ art', '“but that was only when i first saw her, for it is many months since i have considered her as one of the handsomest women of my acquaintance.”', 'harry’s house | rcbyf!!', 'cinema,littlefreak,keepdriving', 'Baking for skunky', 'new york | 22 – she/her', '22 • she/her', 'she her | 🎧', '22', 'hsh : #7 | \"i felt free\"', 'she/her  •  21 • track 9 & 11 ', 'she!her | 18 | hs3track1', 'She Her . 19', ' woman is my song ', 'eve | 19 | she/her ', '(she/her)  bzz', 'she/her • solo harrie', 'she/her 14', 'He/him~22', ' (she/her) ', 'she/her . . . twenty one', '17 🌿 she/her 🌿 tracks 3&6', 'she/her | 17 | track 3+7', '18•unlabeled•spread love only.', 'Neverland ', 'she/her | 21 |', '🌎', '18. she/her. solo harrie. ', 'proud mother of music for a sushi restaurant, matilda & daydreaming', 'they/she 20', 'she/her | ANTI | poc | 18', 'she/her, grape juice, cinema', '16|she/her|•track 5•', 'she/they sixteen lesbian cbyf', 'she/her | 17 • rcbyf', '#nara4ever', 'lost cause & wms mv', 'seventeen ', 'she her 17 🐇', '23 ✿ she/her', 'she/her , sixteen ', 'at harry’s house', 'they/them | 17 | fotgc', 'toms house', 'ハリー', '23 // she/her', 'he/she desi 19', 'crdbyf . harry’s house .', 'she/her • 21 • nsfw sometimes', '23 ◇ she/her', 'wonderland ♡ | 17', 'she/her chicago ', 'she/her , 18 ', 'She/her ☽   England シ', 'judy  |  she/her', 'in a Daydream 🚙 no stunts.', 'in harry’s house', 'hs3; track 8 mío', \"Lou's home\", '⠀ they/them', 'Bologna', '1993', \"I'm in my bed....\", 'she / her ~ 16', '\"Nós nascemos para ficar sozinhas. Sim, nascemos para ficar sozinhas! Mas por que ainda procuramos o amor?\"       -Lovesick girls, 2020.', 'Larry Universe', '🇩🇪', 'Liam heart', 'Livermore, CA', '𝒻𝒶𝓃 𝒶𝒸𝒸𝑜𝓊𝓃𝓉', 'en la casa de raquel con mar', 'Harry Styles', 'Nagasaki Japan', 'Home is where Alanis is', 'coxa do harry ', 'kylie’s house', 'Be nice :)', '𔘓 pfp: @chom1015_', 'far, far away', 'ldn in the heart', 'In a world of own ☁️', 'Calumheart', 'home? Oh you mean Harry', 'Springfield, MA', '16 ', 'Valencia, Spain ', 'she/her♡', 'Northeast, PA', 'Belfast City Centre', 'Saraline', 'Modena, Emilia Romagna', ' nailea x4 | she/her ', 'Chantry Place Shopping Centre', 'Chennai, India', '🎠harry’s house', 'They/them', 'always in my heart', 'London / Paris / New York', '《 she/her 》', 'Middlesbrough, England', 'Iowa (mid-west) US', 'in a pogue way', 'She/Her • bi • 18', 'flicker', 'Mystic Falls', 'south africa ', 'Move to UK 🇬🇧 by 2024', 'Malaga, Spagna', 'hugging kelsey (she/her/they)', 'New York USA', 'en—', 'she / her ', 'Philadelphia, PA ', 'ɪᴛᴀʟʏ ♡ ɢᴇʀᴍᴀɴʏ', '\\u200e ✖', 'Gran Canaria, ESPAÑA', 'disney', 'bc canada 🇨🇦 she/her', ' ♡ Harry Styles & Måneskin ♡', 'gye', 'directioner', 'Auckland', '8123', 's/h, 22 & bengali! + enfp', 'other account got deleted :/', 'bus 1', 'Saturn', 'minor she/they', '🏡: timothée', 'Sorocaba, São Paulo', 'read carrd byf | sugu’s chest', 'she/her \\U0001faa9', 'under tamia’s bed', '(she/her)♑️', 'Somewhere over the rainbow...', 'crying over FineLine ', 'Cagayan de Oro, Philippines', 'Mezico ', 'chromatica ball sept 8th', '📚 8/25', 'hugging charlie spring ', 'listening i love u with robert', '20 she/her • no stunts ', 'houaylor • no stunts', 'oman ', 'LA', 'Northglenn, CO', 'Leon, Spain', 'minor', '(ela/she)', 'Sick Sad World ', '20 || she/her', 'your heart ', 'at home with h 💗 | 20s', 'Salem, MA', 'Cáceres, España', 'CONCERTS', 'on, canada', '방탄 : ρavᥱd tɦe ᥕay!!', \"Beneath Canada USA's Bestie. \", 'Rheinland-Pfalz, Deutschland', 'clay loml 🫂', 'Taylor’s Version', 'Veracruz', 'In city stars', 'funkytown', '18 She/Her ', '18. she/her/they 🇨🇦', 'Faith in the future', 'Palermo,Sicily (ITA)', \"Harry's arms \", \"Harry's dimples \", 'Detroit, MI', 'Harry’s House | dnf -15', 'she,her ', 'FAITH IN THE FUTURE', 'España ', 'yo, sil 👭 harri y louis 👬🏻', 'Tri-State Area USA', 'Esperando a One Direction ', '20052014;26072016', 'Somewhere', 'Melbourne, Victoria', 'One Direction Headquaters', 'in a parking lot at the mall ', 'HS & NH 🏠', 'Planet Earth', 'ur mamas house', '• N E V E R L A N D •', 'DEATH STR ', 'University of Kansas', 'Gdynia, Polska', 'wherever H is.', 'Cincinnati', 'Essonne, Ile-de-France', '♡ novia, trio, cat ceo of # hariana  ', 'EL OJO DE DIOS', 'West Yorkshire, England', 'school for good and evil ofc', \"sidoka's world\", 'poguelandia | L♡VE ON TOUR', 'catlover y fashionlover', 'Long Beach, CA', 'louis replied (2017) ◟̽◞̽', '#WeStandWithTaylor', 'boston, massachusetts', '17 | she/her ', 'Bridgeport, CT', 'Spagna', 'Islas Canarias, España', 'OT5, no stunts', '#LA woman ', 'Liverpool, England', 'Franche-Comté, France', 'harry’s house; she/her ', 'South East, England', 'she/they  !?  bi', 'Warszawa, Polska', 'she/her — 20', 'multi-fandom , tpwk♥️, she/her', 'home by 1D', 'Nuevo León, México', 'she/they • 16  ', \"Listening Harry Styles's 🎶💖\", 'Nueva York, USA', 'next to jack’s favorite tree', 'Culver City, CA', 'PNW', 'dreams', 'Hoorn NH', 'Doncaster/Sheffield', 'US JA BLM ACAB ', 'to freedom', 'Cikarang, Indonesia', 'NH3-HS3 & LT2 track 7 míos', 'she/her,18', '🇲🇽🇨🇺🇬🇧🇺🇸', 'Greensboro, NC', 'Såo Paulo', 'Vigo, Galicia', 'Exeter, UK', 'Viena, Áustria', '꧁ put a price on emotion ꧂', 'Daydreams ', \"louis' heart\", 'Evreux, France', 'bzz', 'germany ° louie legend', 'Camocim, Brasil', 'Billericay, East', 'Norcross, GA', '19 | H & L NS bop.', '❥︎𝑆𝑡𝑦𝑙𝑒𝑠.', '🏳️\\u200d🌈  she/they, 21', 'Suomi', 'Vicenza, Veneto', 'Bridgend, Wales', '🏠 louis', 'HS3 track 7 mía', '༶⋆˙⊹｡', 'jp - pb', \"lilo's child\", 'San Sebastián • she/her • 25+', 'Cali, vé ', 'Springfield, IL', 'Beverley, England', '95% ia bc graduating', 'Riverhead, NY', 'Chattanooga, TN', 'oscar isaac', '8123 |-/ 🥾🌏 • she/her', 'Orange, CA', '⋆Taylor Swift⋆', 'narry, 5sos & mcu stan', 'niall horan', '@lilireinhart ', 'na casa do caralho', 'Comalcalco, Tabasco', 'multistan acc | she/her ', 'Having a proper gay crisis', 'cigarette daydreams 🌱', 'Outer Hebrides', 'Iowa City, IA', 'Ottawa, Ontario, Canada', 'Chatuba, Mesquita', \"Harry's House 🏠💚✨\", 'if i could fly', 'She/her | 17', '#LT2•HS3 tracks 3•6•9 míos ×͜×', 'probably watching a musical', 'TssssSquad', 'Miraflores, Lima - Perú', 'Las Vegas', 'daytona baby ', '369', 'hslot milwaukee 🤍 no stunts', '25 | she/her | LA', 'Boxpark Wembley, London', 'larrie ♡ • 21 • she¡!her ', 'I love nero', 'België', \"stuck in summer '10\", \"Harry's abs🦋srk's dimples🦋\", 'en la concherumare she/her', 'When I run out of road ...', 'sydney, nsw', 'Louisville KY', '🧸', ' 16', 'Tam gdzie Monety', 'SL💙❤', ' 21+ | she/her', 'Sainghin-en-Weppes, France', ' 🇮🇪 Ireland 🇮🇪', 'Amsterdam, The Netherlands', 'updates.sharryfr@gmail.com ', '51-53 Merseyway Stockport', 'Candyland', 'new york, NY', 'flavortown', 'Niall’s house ', 'The Universe ', 'larries and ot5 dni', 'London, New York & beyond ✨', '17 ', 'she,her', 'grapejuice ', 'ela/dela/-a', 'Industrias Stark', 'Crawley, South East', \"Root & Shaw's Apartment \", 'Larrieland', 'Circus 🎪', 'louie', 'Belgio', 'Surabaya, Indonesia', 'netherlands', 'She/Her | 17', '❇Pinkarina✳', 'essex', 'Zürich / Lausanne', 'asgard', 'Colchester, Essex', 'Glasgow, Scotland', 'she/her • 17 • multi (dnp)', 'Friuli-Venezia Giulia, Italia', 'Styles house', 'Verona, Veneto', 'Newcastle/London', 'Hertfordshire', 'dumb-dumb town ', 'Manchester', 'zourriall, taylor', '626', 'Manila,Philippines', 'cbu', 'Chicago, Illinois', 'Harry’s boa', 'Alabama ', 'lanateamo', \"harry's boobs \", 'Boston , MA', 'Princess Park Manor, London UK', 'Terra', 'everywhere con niall ', '6/6 | 9/9 | 0/3 🥝 | 💗💜💙| ', 'Narcissist/He,18Nov♡︎', 'Balneário Camboriú, Brasil', 'DN4', 'Syracuse, NY', 'Waukegan, IL', 'hillie', 'Wonderland ⏳', 'ᗢ s!her\\xa0⋆ taylor my beloved', 'LTWT 2022', '🏠harry styles', 'she/her | speak now.', '23 ', 'O9:OOam-O1:OOam', 'taylor mi wacha', 'bettys garden ', 'she/her/26', 'Vancouver, Canada', 'she/her - 19 - 🇫🇷', 'Yves minhyuk jinnie  jk', 'Longridge, England', 'san siro', 'Madrid ', 'She Her Michael’s Gf ?!', \"Vigliano d'Asti, Piemonte\", 'ENGLAND', '˗ˏˋvkmlˎˊ˗', 'تو دادگاه،بغل دست جانی', 'phoebrry | ANTI', 'Redwood City, CA', 'Orlando, FL', 'jhope’s manager © hopeworld', '19. she/they.'])\n"
     ]
    }
   ],
   "source": [
    "list_locations = {}\n",
    "\n",
    "for a in authors.values():\n",
    "    location = a[6]\n",
    "    \n",
    "    list_locations[location] = list_locations.get(location, 0) +1\n",
    "\n",
    "print(list_locations.keys())\n",
    "    "
   ]
  },
  {
   "cell_type": "code",
   "execution_count": 20,
   "id": "a2520cd7",
   "metadata": {},
   "outputs": [
    {
     "data": {
      "text/html": [
       "<div>\n",
       "<style scoped>\n",
       "    .dataframe tbody tr th:only-of-type {\n",
       "        vertical-align: middle;\n",
       "    }\n",
       "\n",
       "    .dataframe tbody tr th {\n",
       "        vertical-align: top;\n",
       "    }\n",
       "\n",
       "    .dataframe thead th {\n",
       "        text-align: right;\n",
       "    }\n",
       "</style>\n",
       "<table border=\"1\" class=\"dataframe\">\n",
       "  <thead>\n",
       "    <tr style=\"text-align: right;\">\n",
       "      <th></th>\n",
       "      <th>Location</th>\n",
       "      <th>Tot</th>\n",
       "    </tr>\n",
       "  </thead>\n",
       "  <tbody>\n",
       "    <tr>\n",
       "      <th>0</th>\n",
       "      <td></td>\n",
       "      <td>1715</td>\n",
       "    </tr>\n",
       "    <tr>\n",
       "      <th>1</th>\n",
       "      <td>she/her</td>\n",
       "      <td>104</td>\n",
       "    </tr>\n",
       "    <tr>\n",
       "      <th>2</th>\n",
       "      <td>London, England</td>\n",
       "      <td>31</td>\n",
       "    </tr>\n",
       "    <tr>\n",
       "      <th>3</th>\n",
       "      <td>New York, USA</td>\n",
       "      <td>30</td>\n",
       "    </tr>\n",
       "    <tr>\n",
       "      <th>4</th>\n",
       "      <td>Los Angeles, CA</td>\n",
       "      <td>25</td>\n",
       "    </tr>\n",
       "    <tr>\n",
       "      <th>...</th>\n",
       "      <td>...</td>\n",
       "      <td>...</td>\n",
       "    </tr>\n",
       "    <tr>\n",
       "      <th>2308</th>\n",
       "      <td>phoebrry | ANTI</td>\n",
       "      <td>1</td>\n",
       "    </tr>\n",
       "    <tr>\n",
       "      <th>2309</th>\n",
       "      <td>Redwood City, CA</td>\n",
       "      <td>1</td>\n",
       "    </tr>\n",
       "    <tr>\n",
       "      <th>2310</th>\n",
       "      <td>Orlando, FL</td>\n",
       "      <td>1</td>\n",
       "    </tr>\n",
       "    <tr>\n",
       "      <th>2311</th>\n",
       "      <td>jhope’s manager © hopeworld</td>\n",
       "      <td>1</td>\n",
       "    </tr>\n",
       "    <tr>\n",
       "      <th>2312</th>\n",
       "      <td>19. she/they.</td>\n",
       "      <td>1</td>\n",
       "    </tr>\n",
       "  </tbody>\n",
       "</table>\n",
       "<p>2313 rows × 2 columns</p>\n",
       "</div>"
      ],
      "text/plain": [
       "                         Location   Tot\n",
       "0                                  1715\n",
       "1                         she/her   104\n",
       "2                 London, England    31\n",
       "3                   New York, USA    30\n",
       "4                 Los Angeles, CA    25\n",
       "...                           ...   ...\n",
       "2308              phoebrry | ANTI     1\n",
       "2309             Redwood City, CA     1\n",
       "2310                  Orlando, FL     1\n",
       "2311  jhope’s manager © hopeworld     1\n",
       "2312                19. she/they.     1\n",
       "\n",
       "[2313 rows x 2 columns]"
      ]
     },
     "execution_count": 20,
     "metadata": {},
     "output_type": "execute_result"
    }
   ],
   "source": [
    "locations = []\n",
    "\n",
    "for a in authors.values():\n",
    "    locations.append(a[6])\n",
    "\n",
    "c_locations = Counter(locations)\n",
    "\n",
    "pd.DataFrame(\n",
    "    c_locations.most_common(),\n",
    "    columns = ['Location', 'Tot']\n",
    ")\n",
    "    "
   ]
  },
  {
   "cell_type": "code",
   "execution_count": null,
   "id": "7692e15f",
   "metadata": {},
   "outputs": [],
   "source": []
  }
 ],
 "metadata": {
  "kernelspec": {
   "display_name": "Python 3 (ipykernel)",
   "language": "python",
   "name": "python3"
  },
  "language_info": {
   "codemirror_mode": {
    "name": "ipython",
    "version": 3
   },
   "file_extension": ".py",
   "mimetype": "text/x-python",
   "name": "python",
   "nbconvert_exporter": "python",
   "pygments_lexer": "ipython3",
   "version": "3.9.7"
  }
 },
 "nbformat": 4,
 "nbformat_minor": 5
}
