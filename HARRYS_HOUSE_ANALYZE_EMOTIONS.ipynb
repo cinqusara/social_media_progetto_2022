{
 "cells": [
  {
   "cell_type": "markdown",
   "id": "e1fb827f",
   "metadata": {},
   "source": [
    "# Harry's House - analyze emotion"
   ]
  },
  {
   "cell_type": "markdown",
   "id": "234bda9a",
   "metadata": {},
   "source": [
    "In questo notebook andiamo ad analizzare le emozioni che sono state ricavate precedentemente dal notebook **Harry's House - Streaming Api**. Nello specifico andiamo a creare un csv che riporti la somma delle emozioni provate, per ogni minuto dalle 6.03 fino alle 8.59."
   ]
  },
  {
   "cell_type": "code",
   "execution_count": 64,
   "id": "cf55a77d",
   "metadata": {},
   "outputs": [
    {
     "name": "stdout",
     "output_type": "stream",
     "text": [
      "Requirement already satisfied: pytz in c:\\users\\sarac\\anaconda3\\lib\\site-packages (2021.3)\n"
     ]
    }
   ],
   "source": [
    "!pip install pytz"
   ]
  },
  {
   "cell_type": "code",
   "execution_count": 1,
   "id": "f4253163",
   "metadata": {},
   "outputs": [],
   "source": [
    "import tweepy\n",
    "import CONFIG\n",
    "import csv\n",
    "import os\n",
    "import json\n",
    "import numpy as np\n",
    "import pandas as pd\n",
    "import time\n",
    "import re\n",
    "import pytz\n",
    "\n",
    "from collections import Counter\n",
    "from datetime import datetime\n",
    "from zoneinfo import ZoneInfo"
   ]
  },
  {
   "cell_type": "code",
   "execution_count": 2,
   "id": "9957ddbf",
   "metadata": {},
   "outputs": [
    {
     "name": "stdout",
     "output_type": "stream",
     "text": [
      "C:\\Users\\sarac\\OneDrive - Università degli Studi di Milano\\UNI 2022\\_SOCIALMEDIA\\#harryhouse\\HARRY_HOUSE_DATA\n"
     ]
    }
   ],
   "source": [
    "path = os.getcwd() + '\\HARRY_HOUSE_DATA'\n",
    "os.chdir(path)\n",
    "print(os.getcwd())"
   ]
  },
  {
   "cell_type": "code",
   "execution_count": 3,
   "id": "4a4f6b6b",
   "metadata": {},
   "outputs": [],
   "source": [
    "#lettura del file contentente tutte le emozioni\n",
    "\n",
    "list_emotions = []\n",
    "\n",
    "with open('emotion_streaming_api.csv', 'r', encoding='utf-8') as file:\n",
    "    i = 0\n",
    "    reader = csv.reader(file)\n",
    "    for row in reader:\n",
    "        if i == 0:\n",
    "            i += 1\n",
    "            continue\n",
    "        list_emotions.append(row)"
   ]
  },
  {
   "cell_type": "code",
   "execution_count": 4,
   "id": "5da72b8e",
   "metadata": {},
   "outputs": [],
   "source": [
    "#conversione del tempo in timezone europea\n",
    "\n",
    "date_format = \"%Y-%m-%dT%H:%M:%S.%fZ\" \n",
    "timezone = pytz.timezone(\"Europe/Berlin\")\n",
    "target_tz = pytz.timezone('UTC')"
   ]
  },
  {
   "cell_type": "code",
   "execution_count": 5,
   "id": "a6838730",
   "metadata": {},
   "outputs": [],
   "source": [
    "#creo dizionario con orari e modifico la lista emozioni con nuovo orario\n",
    "\n",
    "dict_emotions = {}\n",
    "list_emotions_modified = []\n",
    "\n",
    "for s in list_emotions:\n",
    "    #sistemazione formato data\n",
    "    string = s[0]\n",
    "    date = datetime.strptime(string, date_format)\n",
    "    date = target_tz.localize(date)\n",
    "    date = timezone.normalize(date)\n",
    "    time = date.time()\n",
    "    time = time.replace(second = 0)\n",
    "    \n",
    "    new_list = [time, s[1], s[2]]\n",
    "    list_emotions_modified.append(new_list)\n",
    "    \n",
    "    e = {\n",
    "        'joy': 0,\n",
    "        'anger': 0,\n",
    "        'surprise': 0,\n",
    "        'sadness': 0,\n",
    "        'fear': 0\n",
    "    }\n",
    "    dict_emotions[time] = e"
   ]
  },
  {
   "cell_type": "code",
   "execution_count": 6,
   "id": "277712ba",
   "metadata": {},
   "outputs": [],
   "source": [
    "#conteggio delle varie emozioni \n",
    "\n",
    "def count_emotions(dict_emotions, emotion, time):\n",
    "    sub_dict = dict_emotions.get(time)\n",
    "   \n",
    "    if emotion == 'joy':\n",
    "        sub_dict['joy'] = sub_dict.get('joy') + 1\n",
    "        dict_emotions[time] = sub_dict \n",
    "    elif emotion == 'anger':\n",
    "        sub_dict['anger'] = sub_dict.get('anger') + 1\n",
    "        dict_emotions[time] = sub_dict \n",
    "    elif emotion == 'surprise':\n",
    "        sub_dict['surprise'] = sub_dict.get('surprise') + 1\n",
    "        dict_emotions[time] = sub_dict \n",
    "    elif emotion == 'sadness':\n",
    "        sub_dict['sadness'] = sub_dict.get('sadness') + 1\n",
    "        dict_emotions[time] = sub_dict \n",
    "    else:\n",
    "        sub_dict['fear'] = sub_dict.get('fear') + 1\n",
    "        dict_emotions[time] = sub_dict \n",
    "    \n",
    "    return dict_emotions"
   ]
  },
  {
   "cell_type": "code",
   "execution_count": 7,
   "id": "e50b0d03",
   "metadata": {},
   "outputs": [],
   "source": [
    "for s in list_emotions_modified:\n",
    "    emotion = s[2]\n",
    "    time = s[0]\n",
    "    #print(time, ' - ', emotion)\n",
    "    dict_emotions = count_emotions(dict_emotions, emotion, time)"
   ]
  },
  {
   "cell_type": "code",
   "execution_count": 13,
   "id": "8562971d",
   "metadata": {},
   "outputs": [
    {
     "name": "stdout",
     "output_type": "stream",
     "text": [
      "177\n"
     ]
    }
   ],
   "source": [
    "list_x_csv_emotions = []\n",
    "for e in dict_emotions:\n",
    "    sub_dict = dict_emotions[e]\n",
    "    inner_list = [e, sub_dict['joy'], sub_dict['surprise'], sub_dict['sadness'], sub_dict['anger'], sub_dict['fear']]\n",
    "    list_x_csv_emotions.append(inner_list)\n",
    "\n",
    "print(len(list_x_csv_emotions))"
   ]
  },
  {
   "cell_type": "code",
   "execution_count": 14,
   "id": "9108de4b",
   "metadata": {},
   "outputs": [],
   "source": [
    "#salvataggio dei dati in csv\n",
    "\n",
    "header = ['time', 'tot joy', 'tot surprise', 'tot sadness', 'tot anger', 'tot fear']\n",
    "\n",
    "with open('emotions_x_time.csv', 'w', encoding='UTF8', newline='') as f:\n",
    "    writer = csv.writer(f)\n",
    "\n",
    "    # write the header\n",
    "    writer.writerow(header)\n",
    "\n",
    "    # write multiple rows\n",
    "    writer.writerows(list_x_csv_emotions)"
   ]
  },
  {
   "cell_type": "code",
   "execution_count": null,
   "id": "2113ab17",
   "metadata": {},
   "outputs": [],
   "source": []
  }
 ],
 "metadata": {
  "kernelspec": {
   "display_name": "Python 3 (ipykernel)",
   "language": "python",
   "name": "python3"
  },
  "language_info": {
   "codemirror_mode": {
    "name": "ipython",
    "version": 3
   },
   "file_extension": ".py",
   "mimetype": "text/x-python",
   "name": "python",
   "nbconvert_exporter": "python",
   "pygments_lexer": "ipython3",
   "version": "3.9.7"
  }
 },
 "nbformat": 4,
 "nbformat_minor": 5
}
